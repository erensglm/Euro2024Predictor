{
 "cells": [
  {
   "cell_type": "code",
   "execution_count": 1,
   "id": "3073ca79-5c4b-43f1-9035-61085bcaa5ac",
   "metadata": {},
   "outputs": [
    {
     "name": "stderr",
     "output_type": "stream",
     "text": [
      "C:\\Users\\erens\\AppData\\Local\\Temp\\ipykernel_3800\\581249992.py:1: DeprecationWarning: \n",
      "Pyarrow will become a required dependency of pandas in the next major release of pandas (pandas 3.0),\n",
      "(to allow more performant data types, such as the Arrow string type, and better interoperability with other libraries)\n",
      "but was not found to be installed on your system.\n",
      "If this would cause problems for you,\n",
      "please provide us feedback at https://github.com/pandas-dev/pandas/issues/54466\n",
      "        \n",
      "  import pandas as pd\n"
     ]
    }
   ],
   "source": [
    "import pandas as pd\n",
    "import re"
   ]
  },
  {
   "cell_type": "code",
   "execution_count": 2,
   "id": "77bfea0f-cb09-43ef-8dde-e291ebd3820c",
   "metadata": {},
   "outputs": [],
   "source": [
    "df =  pd.read_csv(\"results.csv\")"
   ]
  },
  {
   "cell_type": "code",
   "execution_count": 3,
   "id": "94ac11c2-f0b2-4356-ba13-5d0d88d6ab67",
   "metadata": {},
   "outputs": [],
   "source": [
    "df[\"date\"] = pd.to_datetime(df[\"date\"])"
   ]
  },
  {
   "cell_type": "code",
   "execution_count": 4,
   "id": "8a21915d-eb42-4f1d-bfcd-80bb40f17e77",
   "metadata": {},
   "outputs": [
    {
     "data": {
      "text/plain": [
       "date          0\n",
       "home_team     0\n",
       "away_team     0\n",
       "home_score    0\n",
       "away_score    0\n",
       "tournament    0\n",
       "city          0\n",
       "country       0\n",
       "neutral       0\n",
       "dtype: int64"
      ]
     },
     "execution_count": 4,
     "metadata": {},
     "output_type": "execute_result"
    }
   ],
   "source": [
    "df.isna().sum()  ## df.isna().sum() ifadesinin çıktısı, df veri çerçevesindeki her bir sütundaki eksik değerlerin toplam sayısını içerir."
   ]
  },
  {
   "cell_type": "code",
   "execution_count": 5,
   "id": "8d44cd3e-472f-4c08-b561-301cab14bae1",
   "metadata": {},
   "outputs": [],
   "source": [
    "df.dropna(inplace=True)"
   ]
  },
  {
   "cell_type": "code",
   "execution_count": 6,
   "id": "338bcf16-b64e-4568-be07-bb155c7d3938",
   "metadata": {},
   "outputs": [
    {
     "data": {
      "text/plain": [
       "date          datetime64[ns]\n",
       "home_team             object\n",
       "away_team             object\n",
       "home_score             int64\n",
       "away_score             int64\n",
       "tournament            object\n",
       "city                  object\n",
       "country               object\n",
       "neutral                 bool\n",
       "dtype: object"
      ]
     },
     "execution_count": 6,
     "metadata": {},
     "output_type": "execute_result"
    }
   ],
   "source": [
    "df.dtypes"
   ]
  },
  {
   "cell_type": "code",
   "execution_count": 7,
   "id": "c6cff1f0-124b-490b-8e41-e3d7fa0f25a5",
   "metadata": {},
   "outputs": [
    {
     "data": {
      "text/html": [
       "<div>\n",
       "<style scoped>\n",
       "    .dataframe tbody tr th:only-of-type {\n",
       "        vertical-align: middle;\n",
       "    }\n",
       "\n",
       "    .dataframe tbody tr th {\n",
       "        vertical-align: top;\n",
       "    }\n",
       "\n",
       "    .dataframe thead th {\n",
       "        text-align: right;\n",
       "    }\n",
       "</style>\n",
       "<table border=\"1\" class=\"dataframe\">\n",
       "  <thead>\n",
       "    <tr style=\"text-align: right;\">\n",
       "      <th></th>\n",
       "      <th>date</th>\n",
       "      <th>home_team</th>\n",
       "      <th>away_team</th>\n",
       "      <th>home_score</th>\n",
       "      <th>away_score</th>\n",
       "      <th>tournament</th>\n",
       "      <th>city</th>\n",
       "      <th>country</th>\n",
       "      <th>neutral</th>\n",
       "    </tr>\n",
       "  </thead>\n",
       "  <tbody>\n",
       "    <tr>\n",
       "      <th>46284</th>\n",
       "      <td>2024-02-07</td>\n",
       "      <td>Ivory Coast</td>\n",
       "      <td>DR Congo</td>\n",
       "      <td>1</td>\n",
       "      <td>0</td>\n",
       "      <td>African Cup of Nations</td>\n",
       "      <td>Ebimpé</td>\n",
       "      <td>Ivory Coast</td>\n",
       "      <td>False</td>\n",
       "    </tr>\n",
       "    <tr>\n",
       "      <th>46285</th>\n",
       "      <td>2024-02-07</td>\n",
       "      <td>Nigeria</td>\n",
       "      <td>South Africa</td>\n",
       "      <td>1</td>\n",
       "      <td>1</td>\n",
       "      <td>African Cup of Nations</td>\n",
       "      <td>Bouaké</td>\n",
       "      <td>Ivory Coast</td>\n",
       "      <td>True</td>\n",
       "    </tr>\n",
       "    <tr>\n",
       "      <th>46287</th>\n",
       "      <td>2024-02-10</td>\n",
       "      <td>South Africa</td>\n",
       "      <td>DR Congo</td>\n",
       "      <td>0</td>\n",
       "      <td>0</td>\n",
       "      <td>African Cup of Nations</td>\n",
       "      <td>Abidjan</td>\n",
       "      <td>Ivory Coast</td>\n",
       "      <td>True</td>\n",
       "    </tr>\n",
       "    <tr>\n",
       "      <th>46286</th>\n",
       "      <td>2024-02-10</td>\n",
       "      <td>Qatar</td>\n",
       "      <td>Jordan</td>\n",
       "      <td>3</td>\n",
       "      <td>1</td>\n",
       "      <td>AFC Asian Cup</td>\n",
       "      <td>Lusail</td>\n",
       "      <td>Qatar</td>\n",
       "      <td>False</td>\n",
       "    </tr>\n",
       "    <tr>\n",
       "      <th>46288</th>\n",
       "      <td>2024-02-11</td>\n",
       "      <td>Ivory Coast</td>\n",
       "      <td>Nigeria</td>\n",
       "      <td>2</td>\n",
       "      <td>1</td>\n",
       "      <td>African Cup of Nations</td>\n",
       "      <td>Ebimpé</td>\n",
       "      <td>Ivory Coast</td>\n",
       "      <td>False</td>\n",
       "    </tr>\n",
       "  </tbody>\n",
       "</table>\n",
       "</div>"
      ],
      "text/plain": [
       "            date     home_team     away_team  home_score  away_score  \\\n",
       "46284 2024-02-07   Ivory Coast      DR Congo           1           0   \n",
       "46285 2024-02-07       Nigeria  South Africa           1           1   \n",
       "46287 2024-02-10  South Africa      DR Congo           0           0   \n",
       "46286 2024-02-10         Qatar        Jordan           3           1   \n",
       "46288 2024-02-11   Ivory Coast       Nigeria           2           1   \n",
       "\n",
       "                   tournament     city      country  neutral  \n",
       "46284  African Cup of Nations   Ebimpé  Ivory Coast    False  \n",
       "46285  African Cup of Nations   Bouaké  Ivory Coast     True  \n",
       "46287  African Cup of Nations  Abidjan  Ivory Coast     True  \n",
       "46286           AFC Asian Cup   Lusail        Qatar    False  \n",
       "46288  African Cup of Nations   Ebimpé  Ivory Coast    False  "
      ]
     },
     "execution_count": 7,
     "metadata": {},
     "output_type": "execute_result"
    }
   ],
   "source": [
    "df.sort_values(\"date\").tail() ##veri çerçevesindeki tarihe göre sıralanmış satırların en son beş gözlemini görüntüler."
   ]
  },
  {
   "cell_type": "code",
   "execution_count": 8,
   "id": "946c8d11-6dbb-44d0-bf1c-629bcf8935f1",
   "metadata": {},
   "outputs": [],
   "source": [
    "df = df[(df[\"date\"] >= \"2021-07-11\")].reset_index(drop=True) ##son EURO başlangıcı"
   ]
  },
  {
   "cell_type": "code",
   "execution_count": 9,
   "id": "36e0cdb1-624a-45bc-889c-237184b6a2b5",
   "metadata": {},
   "outputs": [
    {
     "data": {
      "text/html": [
       "<div>\n",
       "<style scoped>\n",
       "    .dataframe tbody tr th:only-of-type {\n",
       "        vertical-align: middle;\n",
       "    }\n",
       "\n",
       "    .dataframe tbody tr th {\n",
       "        vertical-align: top;\n",
       "    }\n",
       "\n",
       "    .dataframe thead th {\n",
       "        text-align: right;\n",
       "    }\n",
       "</style>\n",
       "<table border=\"1\" class=\"dataframe\">\n",
       "  <thead>\n",
       "    <tr style=\"text-align: right;\">\n",
       "      <th></th>\n",
       "      <th>date</th>\n",
       "      <th>home_team</th>\n",
       "      <th>away_team</th>\n",
       "      <th>home_score</th>\n",
       "      <th>away_score</th>\n",
       "      <th>tournament</th>\n",
       "      <th>city</th>\n",
       "      <th>country</th>\n",
       "      <th>neutral</th>\n",
       "    </tr>\n",
       "  </thead>\n",
       "  <tbody>\n",
       "    <tr>\n",
       "      <th>2622</th>\n",
       "      <td>2024-02-07</td>\n",
       "      <td>Ivory Coast</td>\n",
       "      <td>DR Congo</td>\n",
       "      <td>1</td>\n",
       "      <td>0</td>\n",
       "      <td>African Cup of Nations</td>\n",
       "      <td>Ebimpé</td>\n",
       "      <td>Ivory Coast</td>\n",
       "      <td>False</td>\n",
       "    </tr>\n",
       "    <tr>\n",
       "      <th>2623</th>\n",
       "      <td>2024-02-07</td>\n",
       "      <td>Nigeria</td>\n",
       "      <td>South Africa</td>\n",
       "      <td>1</td>\n",
       "      <td>1</td>\n",
       "      <td>African Cup of Nations</td>\n",
       "      <td>Bouaké</td>\n",
       "      <td>Ivory Coast</td>\n",
       "      <td>True</td>\n",
       "    </tr>\n",
       "    <tr>\n",
       "      <th>2625</th>\n",
       "      <td>2024-02-10</td>\n",
       "      <td>South Africa</td>\n",
       "      <td>DR Congo</td>\n",
       "      <td>0</td>\n",
       "      <td>0</td>\n",
       "      <td>African Cup of Nations</td>\n",
       "      <td>Abidjan</td>\n",
       "      <td>Ivory Coast</td>\n",
       "      <td>True</td>\n",
       "    </tr>\n",
       "    <tr>\n",
       "      <th>2624</th>\n",
       "      <td>2024-02-10</td>\n",
       "      <td>Qatar</td>\n",
       "      <td>Jordan</td>\n",
       "      <td>3</td>\n",
       "      <td>1</td>\n",
       "      <td>AFC Asian Cup</td>\n",
       "      <td>Lusail</td>\n",
       "      <td>Qatar</td>\n",
       "      <td>False</td>\n",
       "    </tr>\n",
       "    <tr>\n",
       "      <th>2626</th>\n",
       "      <td>2024-02-11</td>\n",
       "      <td>Ivory Coast</td>\n",
       "      <td>Nigeria</td>\n",
       "      <td>2</td>\n",
       "      <td>1</td>\n",
       "      <td>African Cup of Nations</td>\n",
       "      <td>Ebimpé</td>\n",
       "      <td>Ivory Coast</td>\n",
       "      <td>False</td>\n",
       "    </tr>\n",
       "  </tbody>\n",
       "</table>\n",
       "</div>"
      ],
      "text/plain": [
       "           date     home_team     away_team  home_score  away_score  \\\n",
       "2622 2024-02-07   Ivory Coast      DR Congo           1           0   \n",
       "2623 2024-02-07       Nigeria  South Africa           1           1   \n",
       "2625 2024-02-10  South Africa      DR Congo           0           0   \n",
       "2624 2024-02-10         Qatar        Jordan           3           1   \n",
       "2626 2024-02-11   Ivory Coast       Nigeria           2           1   \n",
       "\n",
       "                  tournament     city      country  neutral  \n",
       "2622  African Cup of Nations   Ebimpé  Ivory Coast    False  \n",
       "2623  African Cup of Nations   Bouaké  Ivory Coast     True  \n",
       "2625  African Cup of Nations  Abidjan  Ivory Coast     True  \n",
       "2624           AFC Asian Cup   Lusail        Qatar    False  \n",
       "2626  African Cup of Nations   Ebimpé  Ivory Coast    False  "
      ]
     },
     "execution_count": 9,
     "metadata": {},
     "output_type": "execute_result"
    }
   ],
   "source": [
    "df.sort_values(\"date\").tail()"
   ]
  },
  {
   "cell_type": "code",
   "execution_count": 10,
   "id": "0aec9078-05e6-4085-8e0c-a85a1626851c",
   "metadata": {},
   "outputs": [
    {
     "data": {
      "text/plain": [
       "home_team\n",
       "Mexico           36\n",
       "United States    35\n",
       "Qatar            33\n",
       "Bahrain          32\n",
       "Morocco          29\n",
       "                 ..\n",
       "Chameria          1\n",
       "Aymara            1\n",
       "Elba Island       1\n",
       "Ticino            1\n",
       "Tibet             1\n",
       "Name: count, Length: 242, dtype: int64"
      ]
     },
     "execution_count": 10,
     "metadata": {},
     "output_type": "execute_result"
    }
   ],
   "source": [
    "df.home_team.value_counts()"
   ]
  },
  {
   "cell_type": "code",
   "execution_count": 11,
   "id": "2434a839-d7a3-4312-a0ea-9dea47644752",
   "metadata": {},
   "outputs": [],
   "source": [
    "rank = pd.read_csv(\"fifa_ranking-2023-07-20.csv\")"
   ]
  },
  {
   "cell_type": "code",
   "execution_count": 12,
   "id": "5d0bdcf7-c751-4720-a5f1-bad62fce8168",
   "metadata": {},
   "outputs": [],
   "source": [
    "rank[\"rank_date\"] = pd.to_datetime(rank[\"rank_date\"])\n",
    "rank = rank[(rank[\"rank_date\"] >= \"2021-07-11\")].reset_index(drop=True)"
   ]
  },
  {
   "cell_type": "code",
   "execution_count": 13,
   "id": "ae5d104e-49c5-4503-b666-09e0e0d2dac9",
   "metadata": {},
   "outputs": [
    {
     "name": "stderr",
     "output_type": "stream",
     "text": [
      "C:\\Users\\erens\\AppData\\Local\\Temp\\ipykernel_3800\\1689758223.py:1: FutureWarning: DataFrame.fillna with 'method' is deprecated and will raise in a future version. Use obj.ffill() or obj.bfill() instead.\n",
      "  rank = rank.set_index(['rank_date']).groupby(['country_full'], group_keys=False).resample('D').first().fillna(method='ffill').reset_index()\n"
     ]
    }
   ],
   "source": [
    "rank = rank.set_index(['rank_date']).groupby(['country_full'], group_keys=False).resample('D').first().fillna(method='ffill').reset_index()"
   ]
  },
  {
   "cell_type": "code",
   "execution_count": 14,
   "id": "1dc6931f-b0c4-4867-b67f-acbab8251e81",
   "metadata": {},
   "outputs": [],
   "source": [
    "df_euro_ranked = df.merge(rank[[\"country_full\", \"total_points\", \"previous_points\", \"rank\", \"rank_change\", \"rank_date\"]], left_on=[\"date\", \"home_team\"], right_on=[\"rank_date\", \"country_full\"]).drop([\"rank_date\", \"country_full\"], axis=1)\n",
    "\n",
    "df_euro_ranked = df_euro_ranked.merge(rank[[\"country_full\", \"total_points\", \"previous_points\", \"rank\", \"rank_change\", \"rank_date\"]], left_on=[\"date\", \"away_team\"], right_on=[\"rank_date\", \"country_full\"], suffixes=(\"_home\", \"_away\")).drop([\"rank_date\", \"country_full\"], axis=1)"
   ]
  },
  {
   "cell_type": "code",
   "execution_count": 15,
   "id": "99ac4547-c6f5-4db1-b5ec-9dc9d7b704d8",
   "metadata": {},
   "outputs": [
    {
     "data": {
      "text/html": [
       "<div>\n",
       "<style scoped>\n",
       "    .dataframe tbody tr th:only-of-type {\n",
       "        vertical-align: middle;\n",
       "    }\n",
       "\n",
       "    .dataframe tbody tr th {\n",
       "        vertical-align: top;\n",
       "    }\n",
       "\n",
       "    .dataframe thead th {\n",
       "        text-align: right;\n",
       "    }\n",
       "</style>\n",
       "<table border=\"1\" class=\"dataframe\">\n",
       "  <thead>\n",
       "    <tr style=\"text-align: right;\">\n",
       "      <th></th>\n",
       "      <th>date</th>\n",
       "      <th>home_team</th>\n",
       "      <th>away_team</th>\n",
       "      <th>home_score</th>\n",
       "      <th>away_score</th>\n",
       "      <th>tournament</th>\n",
       "      <th>city</th>\n",
       "      <th>country</th>\n",
       "      <th>neutral</th>\n",
       "      <th>total_points_home</th>\n",
       "      <th>previous_points_home</th>\n",
       "      <th>rank_home</th>\n",
       "      <th>rank_change_home</th>\n",
       "      <th>total_points_away</th>\n",
       "      <th>previous_points_away</th>\n",
       "      <th>rank_away</th>\n",
       "      <th>rank_change_away</th>\n",
       "    </tr>\n",
       "  </thead>\n",
       "  <tbody>\n",
       "    <tr>\n",
       "      <th>1072</th>\n",
       "      <td>2022-09-26</td>\n",
       "      <td>England</td>\n",
       "      <td>Germany</td>\n",
       "      <td>3</td>\n",
       "      <td>3</td>\n",
       "      <td>UEFA Nations League</td>\n",
       "      <td>London</td>\n",
       "      <td>England</td>\n",
       "      <td>False</td>\n",
       "      <td>1737.46</td>\n",
       "      <td>1737.46</td>\n",
       "      <td>5.0</td>\n",
       "      <td>0.0</td>\n",
       "      <td>1658.96</td>\n",
       "      <td>1658.96</td>\n",
       "      <td>11.0</td>\n",
       "      <td>0.0</td>\n",
       "    </tr>\n",
       "    <tr>\n",
       "      <th>1141</th>\n",
       "      <td>2022-11-16</td>\n",
       "      <td>Oman</td>\n",
       "      <td>Germany</td>\n",
       "      <td>0</td>\n",
       "      <td>1</td>\n",
       "      <td>Friendly</td>\n",
       "      <td>Muscat</td>\n",
       "      <td>Oman</td>\n",
       "      <td>False</td>\n",
       "      <td>1320.29</td>\n",
       "      <td>1323.03</td>\n",
       "      <td>75.0</td>\n",
       "      <td>0.0</td>\n",
       "      <td>1650.21</td>\n",
       "      <td>1658.96</td>\n",
       "      <td>11.0</td>\n",
       "      <td>0.0</td>\n",
       "    </tr>\n",
       "    <tr>\n",
       "      <th>1205</th>\n",
       "      <td>2022-11-23</td>\n",
       "      <td>Germany</td>\n",
       "      <td>Japan</td>\n",
       "      <td>1</td>\n",
       "      <td>2</td>\n",
       "      <td>FIFA World Cup</td>\n",
       "      <td>Al Rayyan</td>\n",
       "      <td>Qatar</td>\n",
       "      <td>True</td>\n",
       "      <td>1650.21</td>\n",
       "      <td>1658.96</td>\n",
       "      <td>11.0</td>\n",
       "      <td>0.0</td>\n",
       "      <td>1559.54</td>\n",
       "      <td>1554.69</td>\n",
       "      <td>24.0</td>\n",
       "      <td>0.0</td>\n",
       "    </tr>\n",
       "    <tr>\n",
       "      <th>1219</th>\n",
       "      <td>2022-11-27</td>\n",
       "      <td>Spain</td>\n",
       "      <td>Germany</td>\n",
       "      <td>1</td>\n",
       "      <td>1</td>\n",
       "      <td>FIFA World Cup</td>\n",
       "      <td>Al Khor</td>\n",
       "      <td>Qatar</td>\n",
       "      <td>True</td>\n",
       "      <td>1715.22</td>\n",
       "      <td>1716.93</td>\n",
       "      <td>7.0</td>\n",
       "      <td>1.0</td>\n",
       "      <td>1650.21</td>\n",
       "      <td>1658.96</td>\n",
       "      <td>11.0</td>\n",
       "      <td>0.0</td>\n",
       "    </tr>\n",
       "    <tr>\n",
       "      <th>1233</th>\n",
       "      <td>2022-12-01</td>\n",
       "      <td>Costa Rica</td>\n",
       "      <td>Germany</td>\n",
       "      <td>2</td>\n",
       "      <td>4</td>\n",
       "      <td>FIFA World Cup</td>\n",
       "      <td>Al Khor</td>\n",
       "      <td>Qatar</td>\n",
       "      <td>True</td>\n",
       "      <td>1503.59</td>\n",
       "      <td>1500.06</td>\n",
       "      <td>31.0</td>\n",
       "      <td>-3.0</td>\n",
       "      <td>1650.21</td>\n",
       "      <td>1658.96</td>\n",
       "      <td>11.0</td>\n",
       "      <td>0.0</td>\n",
       "    </tr>\n",
       "    <tr>\n",
       "      <th>1348</th>\n",
       "      <td>2023-03-25</td>\n",
       "      <td>Germany</td>\n",
       "      <td>Peru</td>\n",
       "      <td>2</td>\n",
       "      <td>0</td>\n",
       "      <td>Friendly</td>\n",
       "      <td>Mainz</td>\n",
       "      <td>Germany</td>\n",
       "      <td>False</td>\n",
       "      <td>1646.91</td>\n",
       "      <td>1650.21</td>\n",
       "      <td>14.0</td>\n",
       "      <td>3.0</td>\n",
       "      <td>1564.30</td>\n",
       "      <td>1561.01</td>\n",
       "      <td>21.0</td>\n",
       "      <td>-2.0</td>\n",
       "    </tr>\n",
       "    <tr>\n",
       "      <th>1404</th>\n",
       "      <td>2023-03-28</td>\n",
       "      <td>Germany</td>\n",
       "      <td>Belgium</td>\n",
       "      <td>2</td>\n",
       "      <td>3</td>\n",
       "      <td>Friendly</td>\n",
       "      <td>Cologne</td>\n",
       "      <td>Germany</td>\n",
       "      <td>False</td>\n",
       "      <td>1646.91</td>\n",
       "      <td>1650.21</td>\n",
       "      <td>14.0</td>\n",
       "      <td>3.0</td>\n",
       "      <td>1781.30</td>\n",
       "      <td>1816.71</td>\n",
       "      <td>4.0</td>\n",
       "      <td>2.0</td>\n",
       "    </tr>\n",
       "    <tr>\n",
       "      <th>1443</th>\n",
       "      <td>2023-06-12</td>\n",
       "      <td>Germany</td>\n",
       "      <td>Ukraine</td>\n",
       "      <td>3</td>\n",
       "      <td>3</td>\n",
       "      <td>Friendly</td>\n",
       "      <td>Bremen</td>\n",
       "      <td>Germany</td>\n",
       "      <td>False</td>\n",
       "      <td>1647.42</td>\n",
       "      <td>1646.91</td>\n",
       "      <td>14.0</td>\n",
       "      <td>0.0</td>\n",
       "      <td>1530.04</td>\n",
       "      <td>1536.99</td>\n",
       "      <td>30.0</td>\n",
       "      <td>4.0</td>\n",
       "    </tr>\n",
       "    <tr>\n",
       "      <th>1469</th>\n",
       "      <td>2023-06-16</td>\n",
       "      <td>Poland</td>\n",
       "      <td>Germany</td>\n",
       "      <td>1</td>\n",
       "      <td>0</td>\n",
       "      <td>Friendly</td>\n",
       "      <td>Warsaw</td>\n",
       "      <td>Poland</td>\n",
       "      <td>False</td>\n",
       "      <td>1553.76</td>\n",
       "      <td>1559.83</td>\n",
       "      <td>23.0</td>\n",
       "      <td>1.0</td>\n",
       "      <td>1647.42</td>\n",
       "      <td>1646.91</td>\n",
       "      <td>14.0</td>\n",
       "      <td>0.0</td>\n",
       "    </tr>\n",
       "    <tr>\n",
       "      <th>1541</th>\n",
       "      <td>2023-06-20</td>\n",
       "      <td>Germany</td>\n",
       "      <td>Colombia</td>\n",
       "      <td>0</td>\n",
       "      <td>2</td>\n",
       "      <td>Friendly</td>\n",
       "      <td>Gelsenkirchen</td>\n",
       "      <td>Germany</td>\n",
       "      <td>False</td>\n",
       "      <td>1647.42</td>\n",
       "      <td>1646.91</td>\n",
       "      <td>14.0</td>\n",
       "      <td>0.0</td>\n",
       "      <td>1617.08</td>\n",
       "      <td>1612.78</td>\n",
       "      <td>17.0</td>\n",
       "      <td>0.0</td>\n",
       "    </tr>\n",
       "  </tbody>\n",
       "</table>\n",
       "</div>"
      ],
      "text/plain": [
       "           date   home_team away_team  home_score  away_score  \\\n",
       "1072 2022-09-26     England   Germany           3           3   \n",
       "1141 2022-11-16        Oman   Germany           0           1   \n",
       "1205 2022-11-23     Germany     Japan           1           2   \n",
       "1219 2022-11-27       Spain   Germany           1           1   \n",
       "1233 2022-12-01  Costa Rica   Germany           2           4   \n",
       "1348 2023-03-25     Germany      Peru           2           0   \n",
       "1404 2023-03-28     Germany   Belgium           2           3   \n",
       "1443 2023-06-12     Germany   Ukraine           3           3   \n",
       "1469 2023-06-16      Poland   Germany           1           0   \n",
       "1541 2023-06-20     Germany  Colombia           0           2   \n",
       "\n",
       "               tournament           city  country  neutral  total_points_home  \\\n",
       "1072  UEFA Nations League         London  England    False            1737.46   \n",
       "1141             Friendly         Muscat     Oman    False            1320.29   \n",
       "1205       FIFA World Cup      Al Rayyan    Qatar     True            1650.21   \n",
       "1219       FIFA World Cup        Al Khor    Qatar     True            1715.22   \n",
       "1233       FIFA World Cup        Al Khor    Qatar     True            1503.59   \n",
       "1348             Friendly          Mainz  Germany    False            1646.91   \n",
       "1404             Friendly        Cologne  Germany    False            1646.91   \n",
       "1443             Friendly         Bremen  Germany    False            1647.42   \n",
       "1469             Friendly         Warsaw   Poland    False            1553.76   \n",
       "1541             Friendly  Gelsenkirchen  Germany    False            1647.42   \n",
       "\n",
       "      previous_points_home  rank_home  rank_change_home  total_points_away  \\\n",
       "1072               1737.46        5.0               0.0            1658.96   \n",
       "1141               1323.03       75.0               0.0            1650.21   \n",
       "1205               1658.96       11.0               0.0            1559.54   \n",
       "1219               1716.93        7.0               1.0            1650.21   \n",
       "1233               1500.06       31.0              -3.0            1650.21   \n",
       "1348               1650.21       14.0               3.0            1564.30   \n",
       "1404               1650.21       14.0               3.0            1781.30   \n",
       "1443               1646.91       14.0               0.0            1530.04   \n",
       "1469               1559.83       23.0               1.0            1647.42   \n",
       "1541               1646.91       14.0               0.0            1617.08   \n",
       "\n",
       "      previous_points_away  rank_away  rank_change_away  \n",
       "1072               1658.96       11.0               0.0  \n",
       "1141               1658.96       11.0               0.0  \n",
       "1205               1554.69       24.0               0.0  \n",
       "1219               1658.96       11.0               0.0  \n",
       "1233               1658.96       11.0               0.0  \n",
       "1348               1561.01       21.0              -2.0  \n",
       "1404               1816.71        4.0               2.0  \n",
       "1443               1536.99       30.0               4.0  \n",
       "1469               1646.91       14.0               0.0  \n",
       "1541               1612.78       17.0               0.0  "
      ]
     },
     "execution_count": 15,
     "metadata": {},
     "output_type": "execute_result"
    }
   ],
   "source": [
    "df_euro_ranked[(df_euro_ranked.home_team == \"Germany\") | (df_euro_ranked.away_team == \"Germany\")].tail(10)"
   ]
  },
  {
   "cell_type": "markdown",
   "id": "72fc0945-d477-4ec8-80a9-90a002e49500",
   "metadata": {},
   "source": [
    "# ÖZELLİKLER"
   ]
  },
  {
   "cell_type": "markdown",
   "id": "986845d4-5a1a-428f-8590-1a57a955d1af",
   "metadata": {},
   "source": [
    "### Kazanılan puanlar, atılan ve yenilen goller, resmi maç,takım sıralamaları, takımların sıralamadaki artışları, karşılaşılan sıralamaya göre atılan ve yenilen goller"
   ]
  },
  {
   "cell_type": "code",
   "execution_count": 16,
   "id": "111655ac-845f-4919-b59f-49cdcb8dedc7",
   "metadata": {},
   "outputs": [],
   "source": [
    "df = df_euro_ranked"
   ]
  },
  {
   "cell_type": "code",
   "execution_count": 17,
   "id": "c4e73266-e20e-4427-a6c3-38c441690a9e",
   "metadata": {},
   "outputs": [],
   "source": [
    "def result_finder(home, away):\n",
    "    if home > away:\n",
    "        return pd.Series([0, 3, 0])\n",
    "    if home < away:\n",
    "        return pd.Series([1, 0, 3])\n",
    "    else:\n",
    "        return pd.Series([2, 1, 1])\n",
    "\n",
    "results = df.apply(lambda x: result_finder(x[\"home_score\"], x[\"away_score\"]), axis=1)"
   ]
  },
  {
   "cell_type": "code",
   "execution_count": 18,
   "id": "5292d47b-2ebf-42e8-a391-ab6627a32495",
   "metadata": {},
   "outputs": [],
   "source": [
    "df[[\"result\", \"home_team_points\", \"away_team_points\"]] = results"
   ]
  },
  {
   "cell_type": "code",
   "execution_count": 22,
   "id": "d21183f8-7937-4134-946a-ef8cb49d6110",
   "metadata": {},
   "outputs": [
    {
     "data": {
      "image/png": "[encoded data removed]",
      "text/plain": [
       "<Figure size 1500x1000 with 2 Axes>"
      ]
     },
     "metadata": {},
     "output_type": "display_data"
    }
   ],
   "source": [
    "import seaborn as sns\n",
    "import matplotlib.pyplot as plt\n",
    "\n",
    "plt.figure(figsize=(15, 10))\n",
    "sns.heatmap(df[[\"total_points_home\", \"rank_home\", \"total_points_away\", \"rank_away\"]].corr())\n",
    "plt.show()"
   ]
  },
  {
   "cell_type": "code",
   "execution_count": 23,
   "id": "11d8a6d4-de59-4fa3-a37d-3182fa7fcaf5",
   "metadata": {},
   "outputs": [],
   "source": [
    "df[\"rank_dif\"] = df[\"rank_home\"] - df[\"rank_away\"]\n",
    "df[\"sg\"] = df[\"home_score\"] - df[\"away_score\"]\n",
    "df[\"points_home_by_rank\"] = df[\"home_team_points\"]/df[\"rank_away\"]\n",
    "df[\"points_away_by_rank\"] = df[\"away_team_points\"]/df[\"rank_home\"]"
   ]
  },
  {
   "cell_type": "code",
   "execution_count": 24,
   "id": "b47dd32d-b0f8-4208-a35b-b38a056854a9",
   "metadata": {},
   "outputs": [],
   "source": [
    "home_team = df[[\"date\", \"home_team\", \"home_score\", \"away_score\", \"rank_home\", \"rank_away\",\"rank_change_home\", \"total_points_home\", \"result\", \"rank_dif\", \"points_home_by_rank\", \"home_team_points\"]]\n",
    "\n",
    "away_team = df[[\"date\", \"away_team\", \"away_score\", \"home_score\", \"rank_away\", \"rank_home\",\"rank_change_away\", \"total_points_away\", \"result\", \"rank_dif\", \"points_away_by_rank\", \"away_team_points\"]]"
   ]
  },
  {
   "cell_type": "code",
   "execution_count": 25,
   "id": "9ca20a86-18d6-415f-bf72-30b0606aa073",
   "metadata": {},
   "outputs": [],
   "source": [
    "home_team.columns = [h.replace(\"home_\", \"\").replace(\"_home\", \"\").replace(\"away_\", \"suf_\").replace(\"_away\", \"_suf\") for h in home_team.columns]\n",
    "\n",
    "away_team.columns = [a.replace(\"away_\", \"\").replace(\"_away\", \"\").replace(\"home_\", \"suf_\").replace(\"_home\", \"_suf\") for a in away_team.columns]"
   ]
  },
  {
   "cell_type": "code",
   "execution_count": 29,
   "id": "8335b273-70a4-4c6a-ba6b-981aa3f5dfd8",
   "metadata": {},
   "outputs": [],
   "source": [
    "team_stats = pd.concat([home_team, away_team]).sort_values(\"date\").reset_index(drop=True)\n"
   ]
  },
  {
   "cell_type": "code",
   "execution_count": 30,
   "id": "939f08b4-1fe0-49cd-a9d6-3f77dbf94869",
   "metadata": {},
   "outputs": [],
   "source": [
    "#this column will be used to calculate features for simulation\n",
    "team_stats_raw = team_stats.copy()"
   ]
  },
  {
   "cell_type": "code",
   "execution_count": null,
   "id": "c29838cf-0d83-4e21-a3aa-6020529b3204",
   "metadata": {},
   "outputs": [],
   "source": []
  },
  {
   "cell_type": "code",
   "execution_count": null,
   "id": "5e38eae0-8f56-4293-89bf-28a5f1b1bed4",
   "metadata": {},
   "outputs": [],
   "source": []
  },
  {
   "cell_type": "code",
   "execution_count": null,
   "id": "5d39bea2-63f3-4aaa-b14d-abc6a13685e4",
   "metadata": {},
   "outputs": [],
   "source": []
  },
  {
   "cell_type": "code",
   "execution_count": null,
   "id": "d8f91cfb-a8ef-4ef7-af2d-92c9a948f889",
   "metadata": {},
   "outputs": [],
   "source": []
  },
  {
   "cell_type": "code",
   "execution_count": null,
   "id": "0f40b8fa-3571-4b50-b17f-6d08fac5ada0",
   "metadata": {},
   "outputs": [],
   "source": []
  },
  {
   "cell_type": "code",
   "execution_count": null,
   "id": "48a91e70-2ad8-49fe-9a5b-3866fd8d222c",
   "metadata": {},
   "outputs": [],
   "source": []
  },
  {
   "cell_type": "code",
   "execution_count": null,
   "id": "52340a14-b535-46fc-b54a-128e0480f2bd",
   "metadata": {},
   "outputs": [],
   "source": []
  },
  {
   "cell_type": "code",
   "execution_count": null,
   "id": "29eec306-f39c-43cf-9673-207d8a66a6f0",
   "metadata": {},
   "outputs": [],
   "source": []
  }
 ],
 "metadata": {
  "kernelspec": {
   "display_name": "Python 3 (ipykernel)",
   "language": "python",
   "name": "python3"
  },
  "language_info": {
   "codemirror_mode": {
    "name": "ipython",
    "version": 3
   },
   "file_extension": ".py",
   "mimetype": "text/x-python",
   "name": "python",
   "nbconvert_exporter": "python",
   "pygments_lexer": "ipython3",
   "version": "3.12.2"
  }
 },
 "nbformat": 4,
 "nbformat_minor": 5
}
